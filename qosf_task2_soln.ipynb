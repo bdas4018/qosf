{
 "cells": [
  {
   "cell_type": "markdown",
   "metadata": {},
   "source": [
    "# TASK - 2\n",
    "\n"
   ]
  },
  {
   "cell_type": "markdown",
   "metadata": {},
   "source": [
    "#### There are three implementations of task-2 in this jupyter notebook.\n",
    "**A**: We considered 4 parametrised gates (one layer of R_x and R_y gates on each of the qubits).\n",
    "\n",
    "**B**: We considered 2 parametrised gates (one layer of R_x and R_y gates on the top qubit).\n",
    "\n",
    "**C**: BONUS TASK\n",
    "\n"
   ]
  },
  {
   "cell_type": "markdown",
   "metadata": {},
   "source": [
    "#### Optimisers Used: COBYLA and SPSA for implementations A and B, and COBYLA and Classical gradient decent method for C."
   ]
  },
  {
   "cell_type": "markdown",
   "metadata": {},
   "source": [
    "#### Steps: \n",
    "1. We use a customised noise model.\n",
    "2. We define the layer/layers of R_x and R_y gates.\n",
    "3. Define a suitable cost-function.\n",
    "4. Initialise a random array of parameters for the R_x and R_y gates.\n",
    "5. Use optimisers like COBYLA/SPSA to optimise the cost function.\n",
    "6. Make another circuit excluding the last two measurements (i.e without the measurement gates on the last mesaurement).\n",
    "7. Plot Histogram results to display probabilities.\n",
    "8. And print the final state-vector from the circuit in 6.\n",
    "\n",
    "\n",
    "\n",
    "\n",
    "\n",
    "\n"
   ]
  },
  {
   "cell_type": "markdown",
   "metadata": {},
   "source": [
    "## We attempt A first. (USING COBYLA)"
   ]
  },
  {
   "cell_type": "markdown",
   "metadata": {},
   "source": [
    "#### (I) Importing required libraries"
   ]
  },
  {
   "cell_type": "code",
   "execution_count": 1,
   "metadata": {},
   "outputs": [
    {
     "name": "stderr",
     "output_type": "stream",
     "text": [
      "In /home/bhargav/anaconda3/lib/python3.7/site-packages/matplotlib/mpl-data/stylelib/_classic_test.mplstyle: \n",
      "The text.latex.preview rcparam was deprecated in Matplotlib 3.3 and will be removed two minor releases later.\n",
      "In /home/bhargav/anaconda3/lib/python3.7/site-packages/matplotlib/mpl-data/stylelib/_classic_test.mplstyle: \n",
      "The mathtext.fallback_to_cm rcparam was deprecated in Matplotlib 3.3 and will be removed two minor releases later.\n",
      "In /home/bhargav/anaconda3/lib/python3.7/site-packages/matplotlib/mpl-data/stylelib/_classic_test.mplstyle: Support for setting the 'mathtext.fallback_to_cm' rcParam is deprecated since 3.3 and will be removed two minor releases later; use 'mathtext.fallback : 'cm' instead.\n",
      "In /home/bhargav/anaconda3/lib/python3.7/site-packages/matplotlib/mpl-data/stylelib/_classic_test.mplstyle: \n",
      "The validate_bool_maybe_none function was deprecated in Matplotlib 3.3 and will be removed two minor releases later.\n",
      "In /home/bhargav/anaconda3/lib/python3.7/site-packages/matplotlib/mpl-data/stylelib/_classic_test.mplstyle: \n",
      "The savefig.jpeg_quality rcparam was deprecated in Matplotlib 3.3 and will be removed two minor releases later.\n",
      "In /home/bhargav/anaconda3/lib/python3.7/site-packages/matplotlib/mpl-data/stylelib/_classic_test.mplstyle: \n",
      "The keymap.all_axes rcparam was deprecated in Matplotlib 3.3 and will be removed two minor releases later.\n",
      "In /home/bhargav/anaconda3/lib/python3.7/site-packages/matplotlib/mpl-data/stylelib/_classic_test.mplstyle: \n",
      "The animation.avconv_path rcparam was deprecated in Matplotlib 3.3 and will be removed two minor releases later.\n",
      "In /home/bhargav/anaconda3/lib/python3.7/site-packages/matplotlib/mpl-data/stylelib/_classic_test.mplstyle: \n",
      "The animation.avconv_args rcparam was deprecated in Matplotlib 3.3 and will be removed two minor releases later.\n"
     ]
    }
   ],
   "source": [
    "\n",
    "\n",
    "from qiskit import Aer, execute\n",
    "from qiskit.aqua.components.optimizers import COBYLA, SLSQP, L_BFGS_B, SPSA, AQGD, CG, NFT, ADAM, P_BFGS\n",
    "import numpy as np\n",
    "import qiskit.providers.aer.noise as noise\n",
    "from qiskit import IBMQ\n",
    "from qiskit import QuantumCircuit, QuantumRegister, ClassicalRegister, execute, BasicAer, IBMQ\n",
    "from qiskit.visualization import plot_histogram\n",
    "%matplotlib inline"
   ]
  },
  {
   "cell_type": "markdown",
   "metadata": {},
   "source": [
    "#### (II) Defining a custom noise model. \n",
    "As the requirements demand that simulations are to be done in presence of noise, we introduce a customised noise model which includes depolarising error, phase damping error and amplitude damping error."
   ]
  },
  {
   "cell_type": "code",
   "execution_count": 2,
   "metadata": {},
   "outputs": [],
   "source": [
    "def custom_noise_model(qubits_with_errors: int, dp=0.01, pd=0.091, ad=0.01):\n",
    "    prob_1 = dp  # 1-qubit gate\n",
    "    phase_damping_param = pd\n",
    "    amplitude_damping_param = ad\n",
    "    error_qubits = list(range(qubits_with_errors))  # error only in first k qubits (the encoding/decoding qubits)\n",
    "\n",
    "    # Depolarizing quantum errors\n",
    "    error_1 = noise.depolarizing_error(prob_1, 1)\n",
    "\n",
    "    # Phase Damping Errors\n",
    "    error_2 = noise.phase_damping_error(phase_damping_param)\n",
    "\n",
    "    # amplitude damping errors\n",
    "    error_3 = noise.amplitude_damping_error(amplitude_damping_param)\n",
    "\n",
    "    # Add errors to noise model, only to identity gates\n",
    "    noise_model = noise.NoiseModel()\n",
    "    for i in error_qubits:\n",
    "        noise_model.add_quantum_error(error_1, ['id', 'u3'], [i], warnings=False)\n",
    "        noise_model.add_quantum_error(error_2, ['id', 'u3'], [i], warnings=False)\n",
    "        noise_model.add_quantum_error(error_3, ['id', 'u3'], [i], warnings=False)\n",
    "    return noise_model\n"
   ]
  },
  {
   "cell_type": "markdown",
   "metadata": {},
   "source": [
    "#### (III) Defined a function for layers consisting of  R_x, R_y gates."
   ]
  },
  {
   "cell_type": "code",
   "execution_count": 3,
   "metadata": {},
   "outputs": [],
   "source": [
    "def rx_ry_layer(params:np.ndarray):\n",
    "    qc = QuantumCircuit(2)\n",
    "    qc.rx(params[0], 0)\n",
    "    qc.ry(params[0], 0)\n",
    "    #qc.i(1)\n",
    "    #qc.rx(np.pi,1)\n",
    "    #qc.rx(np.pi,1)\n",
    "    qc.rx(params[2], 1)\n",
    "    qc.ry(params[3], 1)\n",
    "    return qc"
   ]
  },
  {
   "cell_type": "markdown",
   "metadata": {},
   "source": [
    "#### (IV) Defined a function for CNOT and measurements."
   ]
  },
  {
   "cell_type": "code",
   "execution_count": 4,
   "metadata": {},
   "outputs": [],
   "source": [
    "def cirq(params:np.ndarray):\n",
    "    qc = rx_ry_layer(params)\n",
    "    qc.cx(0, 1)\n",
    "    qc.measure_all()\n",
    "    return qc"
   ]
  },
  {
   "cell_type": "markdown",
   "metadata": {},
   "source": [
    "#### (V) Defined a function for Cost Function.\n",
    "#### 1. Tried for:  number of shots of measurements / iteration = 1 using COBYLA.\n",
    "\n",
    "\n",
    "\n",
    "\n"
   ]
  },
  {
   "cell_type": "code",
   "execution_count": 146,
   "metadata": {},
   "outputs": [],
   "source": [
    "def cost_func(params):\n",
    "    qc = cirq(params)\n",
    "    noise_model = custom_noise_model(2)\n",
    "    backend = Aer.get_backend(\"qasm_simulator\")\n",
    "    result = execute(qc, backend, shots=1, noise_model=noise_model).result()\n",
    "    counts = result.get_counts()\n",
    "    total = sum(counts.values())\n",
    "    zero_one = counts['01']/total if '01' in set(list(counts.keys())) else 0\n",
    "    one_zero = counts['10']/total if '10' in set(list(counts.keys())) else 0\n",
    "    return (0.5-zero_one)**2 + (0.5 - one_zero)**2"
   ]
  },
  {
   "cell_type": "markdown",
   "metadata": {},
   "source": [
    "#### (VI) Initialised a random array of parameters, optimised using COBYLA and printed the final circuit.\n"
   ]
  },
  {
   "cell_type": "code",
   "execution_count": 195,
   "metadata": {},
   "outputs": [
    {
     "name": "stdout",
     "output_type": "stream",
     "text": [
      "[ 0.38383624 -0.29125569 -0.25588319  0.97582075]\n",
      "(array([ 1.41708085,  0.70765772, -0.0076275 ,  0.96145162]), 0.022099999999999995, 47)\n",
      "        ┌────────────┐      ░ ┌─┐   \n",
      "   q_0: ┤ RY(1.4171) ├──■───░─┤M├───\n",
      "        └─┬────────┬─┘┌─┴─┐ ░ └╥┘┌─┐\n",
      "   q_1: ──┤ RX(pi) ├──┤ X ├─░──╫─┤M├\n",
      "          └────────┘  └───┘ ░  ║ └╥┘\n",
      "meas: 2/═══════════════════════╩══╩═\n",
      "                               0  1 \n"
     ]
    },
    {
     "data": {
      "image/png": "[encoded data removed]",
      "text/plain": [
       "<Figure size 472.059x204.68 with 1 Axes>"
      ]
     },
     "execution_count": 195,
     "metadata": {},
     "output_type": "execute_result"
    }
   ],
   "source": [
    "param = np.random.randn(4)\n",
    "#param=np.random.uniform(0.0,2*np.pi)\n",
    "print(param)\n",
    "opt=COBYLA(maxiter=1000, disp=False, rhobeg=1.0, tol=None)\n",
    "#opt = SPSA(maxiter=1000, save_steps=1, last_avg=1, c0=0.6283185307179586, c1=0.1, c2=0.602, c3=0.101, c4=0, skip_calibration=False, max_trials=None)\n",
    "#opt=AQGD(maxiter=200, eta=0.01, tol=0.0000001, disp=True, momentum=0.25)\n",
    "#opt=ADAM(maxiter=10000, tol=0.0001, lr=0.001, beta_1=0.9, beta_2=0.99, noise_factor=1e-08, eps=1e-10, amsgrad=True, snapshot_dir=None)\n",
    "ret = opt.optimize(num_vars=4, objective_function=cost_func, initial_point=param)\n",
    "print(ret)\n",
    "final_param = ret[0]\n",
    "final_cirq = cirq(final_param)\n",
    "print(final_cirq)\n",
    "#final_cirq2 = finalcirq.append(x(1))\n",
    "final_cirq.draw('mpl')\n"
   ]
  },
  {
   "cell_type": "markdown",
   "metadata": {},
   "source": [
    "####  (VII ) Plotted the histogram results.\n",
    "#### Used 1 as the no. of shots."
   ]
  },
  {
   "cell_type": "code",
   "execution_count": 196,
   "metadata": {},
   "outputs": [
    {
     "data": {
      "image/png": "[encoded data removed]",
      "text/plain": [
       "<Figure size 504x360 with 1 Axes>"
      ]
     },
     "execution_count": 196,
     "metadata": {},
     "output_type": "execute_result"
    }
   ],
   "source": [
    "backend = BasicAer.get_backend('qasm_simulator')\n",
    "counts = execute(final_cirq, backend,shots=1).result().get_counts()\n",
    "plot_histogram(counts)\n",
    "\n"
   ]
  },
  {
   "cell_type": "markdown",
   "metadata": {},
   "source": [
    "####  ( VIII ) Created a circuit without the measurement gates (for the very last two measurements of the two qubits)\n",
    "#### to obtain the final state vector."
   ]
  },
  {
   "cell_type": "code",
   "execution_count": 197,
   "metadata": {},
   "outputs": [
    {
     "data": {
      "image/png": "[encoded data removed]",
      "text/plain": [
       "<Figure size 321.232x144.48 with 1 Axes>"
      ]
     },
     "execution_count": 197,
     "metadata": {},
     "output_type": "execute_result"
    }
   ],
   "source": [
    "sans_measurements = QuantumCircuit(2)\n",
    "sans_measurements.data = final_cirq.data[:-2]\n",
    "sans_measurements.draw('mpl')\n"
   ]
  },
  {
   "cell_type": "markdown",
   "metadata": {},
   "source": [
    "#### ( IX ) Printed the statevector just before the last two measurements."
   ]
  },
  {
   "cell_type": "code",
   "execution_count": 198,
   "metadata": {},
   "outputs": [
    {
     "name": "stdout",
     "output_type": "stream",
     "text": [
      "[4.64944791e-17+0.j         3.98454874e-17-0.65072619j\n",
      " 4.64944791e-17-0.75931247j 3.98454874e-17+0.j        ]\n"
     ]
    }
   ],
   "source": [
    "simulator = Aer.get_backend('statevector_simulator')\n",
    "result = execute(sans_measurements, backend=simulator).result()\n",
    "statevector = result.get_statevector()\n",
    "\n",
    "print(statevector)"
   ]
  },
  {
   "cell_type": "markdown",
   "metadata": {},
   "source": [
    "#### Above tried using COBYLA for 1 shot of measurement per iteration.\n",
    "#### Tried for 10 shots below."
   ]
  },
  {
   "cell_type": "code",
   "execution_count": 199,
   "metadata": {},
   "outputs": [],
   "source": [
    "def cost_func(params):\n",
    "    qc = cirq(params)\n",
    "    noise_model = custom_noise_model(2)\n",
    "    backend = Aer.get_backend(\"qasm_simulator\")\n",
    "    result = execute(qc, backend, shots=10, noise_model=noise_model).result()\n",
    "    counts = result.get_counts()\n",
    "    total = sum(counts.values())\n",
    "    zero_one = counts['01']/total if '01' in set(list(counts.keys())) else 0\n",
    "    one_zero = counts['10']/total if '10' in set(list(counts.keys())) else 0\n",
    "    return (0.5-zero_one)**2 + (0.5 - one_zero)**2"
   ]
  },
  {
   "cell_type": "code",
   "execution_count": 200,
   "metadata": {},
   "outputs": [
    {
     "name": "stdout",
     "output_type": "stream",
     "text": [
      "[ 0.94591684 -0.38595645  1.00433085 -1.21605775]\n",
      "(array([ 0.94584985, -0.38591551,  1.00438061, -0.21609461]), 0.32000000000000006, 42)\n",
      "        ┌─────────────┐      ░ ┌─┐   \n",
      "   q_0: ┤ RY(0.94585) ├──■───░─┤M├───\n",
      "        └──┬────────┬─┘┌─┴─┐ ░ └╥┘┌─┐\n",
      "   q_1: ───┤ RX(pi) ├──┤ X ├─░──╫─┤M├\n",
      "           └────────┘  └───┘ ░  ║ └╥┘\n",
      "meas: 2/════════════════════════╩══╩═\n",
      "                                0  1 \n"
     ]
    },
    {
     "data": {
      "image/png": "[encoded data removed]",
      "text/plain": [
       "<Figure size 472.059x204.68 with 1 Axes>"
      ]
     },
     "execution_count": 200,
     "metadata": {},
     "output_type": "execute_result"
    }
   ],
   "source": [
    "param = np.random.randn(4)\n",
    "#param=np.random.uniform(0.0,2*np.pi)\n",
    "print(param)\n",
    "opt=COBYLA(maxiter=1000, disp=False, rhobeg=1.0, tol=None)\n",
    "#opt = SPSA(maxiter=1000, save_steps=1, last_avg=1, c0=0.6283185307179586, c1=0.1, c2=0.602, c3=0.101, c4=0, skip_calibration=False, max_trials=None)\n",
    "#opt=AQGD(maxiter=200, eta=0.01, tol=0.0000001, disp=True, momentum=0.25)\n",
    "#opt=ADAM(maxiter=10000, tol=0.0001, lr=0.001, beta_1=0.9, beta_2=0.99, noise_factor=1e-08, eps=1e-10, amsgrad=True, snapshot_dir=None)\n",
    "ret = opt.optimize(num_vars=4, objective_function=cost_func, initial_point=param)\n",
    "print(ret)\n",
    "final_param = ret[0]\n",
    "final_cirq = cirq(final_param)\n",
    "print(final_cirq)\n",
    "#final_cirq2 = finalcirq.append(x(1))\n",
    "final_cirq.draw('mpl')\n"
   ]
  },
  {
   "cell_type": "code",
   "execution_count": 201,
   "metadata": {},
   "outputs": [
    {
     "data": {
      "image/png": "[encoded data removed]",
      "text/plain": [
       "<Figure size 504x360 with 1 Axes>"
      ]
     },
     "execution_count": 201,
     "metadata": {},
     "output_type": "execute_result"
    }
   ],
   "source": [
    "backend = BasicAer.get_backend('qasm_simulator')\n",
    "counts = execute(final_cirq, backend,shots=10).result().get_counts()\n",
    "plot_histogram(counts)\n",
    "\n"
   ]
  },
  {
   "cell_type": "code",
   "execution_count": 202,
   "metadata": {},
   "outputs": [
    {
     "name": "stdout",
     "output_type": "stream",
     "text": [
      "[5.45114672e-17+0.j         2.78908479e-17-0.45549211j\n",
      " 5.45114672e-17-0.89023982j 2.78908479e-17+0.j        ]\n"
     ]
    }
   ],
   "source": [
    "sans_measurements = QuantumCircuit(2)\n",
    "sans_measurements.data = final_cirq.data[:-2]\n",
    "sans_measurements.draw('mpl')\n",
    "simulator = Aer.get_backend('statevector_simulator')\n",
    "result = execute(sans_measurements, backend=simulator).result()\n",
    "statevector = result.get_statevector()\n",
    "\n",
    "print(statevector)"
   ]
  },
  {
   "cell_type": "markdown",
   "metadata": {},
   "source": [
    "#### Above tried using COBYLA for 10 shots of measurement per iteration.\n",
    "#### Below for 100 shots"
   ]
  },
  {
   "cell_type": "code",
   "execution_count": 203,
   "metadata": {},
   "outputs": [],
   "source": [
    "def cost_func(params):\n",
    "    qc = cirq(params)\n",
    "    noise_model = custom_noise_model(2)\n",
    "    backend = Aer.get_backend(\"qasm_simulator\")\n",
    "    result = execute(qc, backend, shots=100, noise_model=noise_model).result()\n",
    "    counts = result.get_counts()\n",
    "    total = sum(counts.values())\n",
    "    zero_one = counts['01']/total if '01' in set(list(counts.keys())) else 0\n",
    "    one_zero = counts['10']/total if '10' in set(list(counts.keys())) else 0\n",
    "    return (0.5-zero_one)**2 + (0.5 - one_zero)**2"
   ]
  },
  {
   "cell_type": "code",
   "execution_count": 205,
   "metadata": {},
   "outputs": [
    {
     "name": "stdout",
     "output_type": "stream",
     "text": [
      "[-0.23975438  1.4068472  -0.40617642 -0.00809147]\n",
      "(array([ 1.40578983,  2.6466628 , -0.70257991,  1.49688498]), 0.01809999999999999, 47)\n",
      "        ┌────────────┐      ░ ┌─┐   \n",
      "   q_0: ┤ RY(1.4058) ├──■───░─┤M├───\n",
      "        └─┬────────┬─┘┌─┴─┐ ░ └╥┘┌─┐\n",
      "   q_1: ──┤ RX(pi) ├──┤ X ├─░──╫─┤M├\n",
      "          └────────┘  └───┘ ░  ║ └╥┘\n",
      "meas: 2/═══════════════════════╩══╩═\n",
      "                               0  1 \n"
     ]
    },
    {
     "data": {
      "image/png": "[encoded data removed]",
      "text/plain": [
       "<Figure size 504x360 with 1 Axes>"
      ]
     },
     "execution_count": 205,
     "metadata": {},
     "output_type": "execute_result"
    }
   ],
   "source": [
    "param = np.random.randn(4)\n",
    "#param=np.random.uniform(0.0,2*np.pi)\n",
    "print(param)\n",
    "opt=COBYLA(maxiter=1000, disp=False, rhobeg=1.0, tol=None)\n",
    "#opt = SPSA(maxiter=1000, save_steps=1, last_avg=1, c0=0.6283185307179586, c1=0.1, c2=0.602, c3=0.101, c4=0, skip_calibration=False, max_trials=None)\n",
    "#opt=AQGD(maxiter=200, eta=0.01, tol=0.0000001, disp=True, momentum=0.25)\n",
    "#opt=ADAM(maxiter=10000, tol=0.0001, lr=0.001, beta_1=0.9, beta_2=0.99, noise_factor=1e-08, eps=1e-10, amsgrad=True, snapshot_dir=None)\n",
    "ret = opt.optimize(num_vars=4, objective_function=cost_func, initial_point=param)\n",
    "print(ret)\n",
    "final_param = ret[0]\n",
    "final_cirq = cirq(final_param)\n",
    "print(final_cirq)\n",
    "#final_cirq2 = finalcirq.append(x(1))\n",
    "final_cirq.draw('mpl')\n",
    "backend = BasicAer.get_backend('qasm_simulator')\n",
    "counts = execute(final_cirq, backend,shots=100).result().get_counts()\n",
    "plot_histogram(counts)\n",
    "\n",
    "\n"
   ]
  },
  {
   "cell_type": "code",
   "execution_count": 206,
   "metadata": {},
   "outputs": [
    {
     "data": {
      "image/png": "[encoded data removed]",
      "text/plain": [
       "<Figure size 321.232x144.48 with 1 Axes>"
      ]
     },
     "execution_count": 206,
     "metadata": {},
     "output_type": "execute_result"
    }
   ],
   "source": [
    "sans_measurements = QuantumCircuit(2)\n",
    "sans_measurements.data = final_cirq.data[:-2]\n",
    "sans_measurements.draw('mpl')\n",
    "\n",
    "\n"
   ]
  },
  {
   "cell_type": "code",
   "execution_count": 17,
   "metadata": {},
   "outputs": [
    {
     "name": "stdout",
     "output_type": "stream",
     "text": [
      "[ 0.14346554+0.j          0.0012488 +0.68583689j -0.69286243-0.09590344j\n",
      " -0.0195408 -0.13930605j]\n"
     ]
    }
   ],
   "source": [
    "simulator = Aer.get_backend('statevector_simulator')\n",
    "result = execute(sans_measurements, backend=simulator).result()\n",
    "statevector = result.get_statevector()\n",
    "print(statevector)"
   ]
  },
  {
   "cell_type": "markdown",
   "metadata": {},
   "source": [
    "#### Above tried using COBYLA for 100 shot of measurement per iteration.\n",
    "#### Below for 1000 shots"
   ]
  },
  {
   "cell_type": "code",
   "execution_count": 18,
   "metadata": {},
   "outputs": [],
   "source": [
    "def cost_func(params):\n",
    "    qc = cirq(params)\n",
    "    noise_model = custom_noise_model(2)\n",
    "    backend = Aer.get_backend(\"qasm_simulator\")\n",
    "    result = execute(qc, backend, shots=1000, noise_model=noise_model).result()\n",
    "    counts = result.get_counts()\n",
    "    total = sum(counts.values())\n",
    "    zero_one = counts['01']/total if '01' in set(list(counts.keys())) else 0\n",
    "    one_zero = counts['10']/total if '10' in set(list(counts.keys())) else 0\n",
    "    return (0.5-zero_one)**2 + (0.5 - one_zero)**2"
   ]
  },
  {
   "cell_type": "code",
   "execution_count": 19,
   "metadata": {},
   "outputs": [
    {
     "name": "stdout",
     "output_type": "stream",
     "text": [
      "[ 0.75860346  1.46767032 -2.57601328 -2.63303449]\n",
      "(array([ 1.58833482,  1.96201415, -0.13341685, -3.09656144]), 0.00033300000000000056, 55)\n",
      "         ┌────────────┐  ┌────────────┐      ░ ┌─┐   \n",
      "   q_0: ─┤ RX(1.5883) ├──┤ RY(1.5883) ├──■───░─┤M├───\n",
      "        ┌┴────────────┴┐┌┴────────────┤┌─┴─┐ ░ └╥┘┌─┐\n",
      "   q_1: ┤ RX(-0.13342) ├┤ RY(-3.0966) ├┤ X ├─░──╫─┤M├\n",
      "        └──────────────┘└─────────────┘└───┘ ░  ║ └╥┘\n",
      "meas: 2/════════════════════════════════════════╩══╩═\n",
      "                                                0  1 \n"
     ]
    },
    {
     "data": {
      "image/png": "[encoded data removed]",
      "text/plain": [
       "<Figure size 504x360 with 1 Axes>"
      ]
     },
     "execution_count": 19,
     "metadata": {},
     "output_type": "execute_result"
    }
   ],
   "source": [
    "param = np.random.randn(4)\n",
    "#param=np.random.uniform(0.0,2*np.pi)\n",
    "print(param)\n",
    "opt=COBYLA(maxiter=1000, disp=False, rhobeg=1.0, tol=None)\n",
    "#opt = SPSA(maxiter=1000, save_steps=1, last_avg=1, c0=0.6283185307179586, c1=0.1, c2=0.602, c3=0.101, c4=0, skip_calibration=False, max_trials=None)\n",
    "#opt=AQGD(maxiter=200, eta=0.01, tol=0.0000001, disp=True, momentum=0.25)\n",
    "#opt=ADAM(maxiter=10000, tol=0.0001, lr=0.001, beta_1=0.9, beta_2=0.99, noise_factor=1e-08, eps=1e-10, amsgrad=True, snapshot_dir=None)\n",
    "ret = opt.optimize(num_vars=4, objective_function=cost_func, initial_point=param)\n",
    "print(ret)\n",
    "final_param = ret[0]\n",
    "final_cirq = cirq(final_param)\n",
    "print(final_cirq)\n",
    "#final_cirq2 = finalcirq.append(x(1))\n",
    "final_cirq.draw('mpl')\n",
    "backend = BasicAer.get_backend('qasm_simulator')\n",
    "counts = execute(final_cirq, backend,shots=1000).result().get_counts()\n",
    "plot_histogram(counts)\n"
   ]
  },
  {
   "cell_type": "code",
   "execution_count": 20,
   "metadata": {},
   "outputs": [
    {
     "name": "stdout",
     "output_type": "stream",
     "text": [
      "[ 0.04973581+0.j          0.67246963+0.21250571j -0.22433371+0.66884566j\n",
      " -0.00087184-0.04971287j]\n"
     ]
    }
   ],
   "source": [
    "sans_measurements = QuantumCircuit(2)\n",
    "sans_measurements.data = final_cirq.data[:-2]\n",
    "sans_measurements.draw('mpl')\n",
    "simulator = Aer.get_backend('statevector_simulator')\n",
    "result = execute(sans_measurements, backend=simulator).result()\n",
    "statevector = result.get_statevector()\n",
    "\n",
    "print(statevector)\n"
   ]
  },
  {
   "cell_type": "markdown",
   "metadata": {},
   "source": [
    "### Optional : Above tried using COBYLA for 1000 shot of measurement per iteration.\n",
    "### Tried for 65536 shots below."
   ]
  },
  {
   "cell_type": "code",
   "execution_count": 143,
   "metadata": {},
   "outputs": [],
   "source": [
    "def cost_func(params):\n",
    "    qc = cirq(params)\n",
    "    noise_model = custom_noise_model(2)\n",
    "    backend = Aer.get_backend(\"qasm_simulator\")\n",
    "    result = execute(qc, backend, shots=65536, noise_model=noise_model).result()\n",
    "    counts = result.get_counts()\n",
    "    total = sum(counts.values())\n",
    "    zero_one = counts['01']/total if '01' in set(list(counts.keys())) else 0\n",
    "    one_zero = counts['10']/total if '10' in set(list(counts.keys())) else 0\n",
    "    return (0.5-zero_one)**2 + (0.5 - one_zero)**2"
   ]
  },
  {
   "cell_type": "code",
   "execution_count": 144,
   "metadata": {},
   "outputs": [
    {
     "name": "stdout",
     "output_type": "stream",
     "text": [
      "[ 0.53274249 -0.20846064 -0.9971442  -0.25131205]\n",
      "(array([ 1.57484797,  0.80388398, -1.00151946, -0.25239541]), 0.00019069225527346134, 51)\n",
      "        ┌────────────┐      ░ ┌─┐   \n",
      "   q_0: ┤ RY(1.5748) ├──■───░─┤M├───\n",
      "        └─┬────────┬─┘┌─┴─┐ ░ └╥┘┌─┐\n",
      "   q_1: ──┤ RX(pi) ├──┤ X ├─░──╫─┤M├\n",
      "          └────────┘  └───┘ ░  ║ └╥┘\n",
      "meas: 2/═══════════════════════╩══╩═\n",
      "                               0  1 \n"
     ]
    },
    {
     "data": {
      "image/png": "[encoded data removed]",
      "text/plain": [
       "<Figure size 504x360 with 1 Axes>"
      ]
     },
     "execution_count": 144,
     "metadata": {},
     "output_type": "execute_result"
    }
   ],
   "source": [
    "param = np.random.randn(4)\n",
    "#param=np.random.uniform(0.0,2*np.pi)\n",
    "print(param)\n",
    "opt=COBYLA(maxiter=1000, disp=False, rhobeg=1.0, tol=None)\n",
    "#opt = SPSA(maxiter=1000, save_steps=1, last_avg=1, c0=0.6283185307179586, c1=0.1, c2=0.602, c3=0.101, c4=0, skip_calibration=False, max_trials=None)\n",
    "#opt=AQGD(maxiter=200, eta=0.01, tol=0.0000001, disp=True, momentum=0.25)\n",
    "#opt=ADAM(maxiter=10000, tol=0.0001, lr=0.001, beta_1=0.9, beta_2=0.99, noise_factor=1e-08, eps=1e-10, amsgrad=True, snapshot_dir=None)\n",
    "ret = opt.optimize(num_vars=4, objective_function=cost_func, initial_point=param)\n",
    "print(ret)\n",
    "final_param = ret[0]\n",
    "final_cirq = cirq(final_param)\n",
    "print(final_cirq)\n",
    "#final_cirq2 = finalcirq.append(x(1))\n",
    "final_cirq.draw('mpl')\n",
    "backend = BasicAer.get_backend('qasm_simulator')\n",
    "counts = execute(final_cirq, backend,shots=65536).result().get_counts()\n",
    "plot_histogram(counts)\n"
   ]
  },
  {
   "cell_type": "code",
   "execution_count": 145,
   "metadata": {},
   "outputs": [
    {
     "name": "stdout",
     "output_type": "stream",
     "text": [
      "[4.32100004e-17+0.j         4.33854275e-17-0.7085378j\n",
      " 4.32100004e-17-0.70567286j 4.33854275e-17+0.j        ]\n"
     ]
    }
   ],
   "source": [
    "sans_measurements = QuantumCircuit(2)\n",
    "sans_measurements.data = final_cirq.data[:-2]\n",
    "#sans_measurements.draw('mpl')\n",
    "simulator = Aer.get_backend('statevector_simulator')\n",
    "result = execute(sans_measurements, backend=simulator).result()\n",
    "statevector = result.get_statevector()\n",
    "\n",
    "print(statevector)\n",
    "\n"
   ]
  },
  {
   "cell_type": "markdown",
   "metadata": {},
   "source": [
    "#### RESULTS 1 :  \n",
    "We observe that as we increase the no. of shots from 1 to 10 to 100 and eventually to 1000 and 65536, the desired probabilities (equal prob for |01> and |10>) occured more accurately even in presence of noise.\n",
    "As we observed for **1 shot**, we just get the state 10 (with 100% prob), and when we increased it to **10 shots**, the probabilities became 20% and 80% respectively (better than 1 shot). \n",
    "And upon increasing it to 100 and ultimately 1000 and 65536 shots, we observed the probabilities improved significantly (almost 50 percent each for |01> and |10>) as required). Also, the statevectors have relative phases in them, i.e, the statevectors we get for 1000 shots (where our desired probabilities are achieved) are of the form |01> + e(i*phi)|10>, where phi is non-zero. "
   ]
  },
  {
   "cell_type": "markdown",
   "metadata": {},
   "source": [
    "## We Attempt A again using SPSA optimiser now\n",
    "### For 10 shots below:"
   ]
  },
  {
   "cell_type": "code",
   "execution_count": 24,
   "metadata": {},
   "outputs": [],
   "source": [
    "def cost_func(params):\n",
    "    qc = cirq(params)\n",
    "    noise_model = custom_noise_model(2)\n",
    "    backend = Aer.get_backend(\"qasm_simulator\")\n",
    "    result = execute(qc, backend, shots=10, noise_model=noise_model).result()\n",
    "    counts = result.get_counts()\n",
    "    total = sum(counts.values())\n",
    "    zero_one = counts['01']/total if '01' in set(list(counts.keys())) else 0\n",
    "    one_zero = counts['10']/total if '10' in set(list(counts.keys())) else 0\n",
    "    return (0.5-zero_one)**2 + (0.5 - one_zero)**2"
   ]
  },
  {
   "cell_type": "code",
   "execution_count": 25,
   "metadata": {},
   "outputs": [
    {
     "name": "stdout",
     "output_type": "stream",
     "text": [
      "[-1.81749328  0.17393514 -0.64516695  0.30962782]\n",
      "(array([-1.49799362,  0.76280062, -2.68101449,  0.0956305 ]), 0.009999999999999995, None)\n",
      "        ┌────────────┐ ┌────────────┐      ░ ┌─┐   \n",
      "   q_0: ┤ RX(-1.498) ├─┤ RY(-1.498) ├──■───░─┤M├───\n",
      "        ├────────────┤┌┴────────────┤┌─┴─┐ ░ └╥┘┌─┐\n",
      "   q_1: ┤ RX(-2.681) ├┤ RY(0.09563) ├┤ X ├─░──╫─┤M├\n",
      "        └────────────┘└─────────────┘└───┘ ░  ║ └╥┘\n",
      "meas: 2/══════════════════════════════════════╩══╩═\n",
      "                                              0  1 \n"
     ]
    }
   ],
   "source": [
    "param = np.random.randn(4)\n",
    "#param=np.random.uniform(0.0,2*np.pi)\n",
    "print(param)\n",
    "#opt=COBYLA(maxiter=1000, disp=False, rhobeg=1.0, tol=None)\n",
    "opt = SPSA(maxiter=1000, save_steps=1, last_avg=1, c0=0.6283185307179586, c1=0.1, c2=0.602, c3=0.101, c4=0, skip_calibration=False, max_trials=None)\n",
    "\n",
    "\n",
    "ret = opt.optimize(num_vars=4, objective_function=cost_func, initial_point=param)\n",
    "print(ret)\n",
    "final_param = ret[0]\n",
    "final_cirq = cirq(final_param)\n",
    "print(final_cirq)\n",
    "#final_cirq2 = finalcirq.append(x(1))\n"
   ]
  },
  {
   "cell_type": "code",
   "execution_count": 26,
   "metadata": {},
   "outputs": [
    {
     "data": {
      "image/png": "[encoded data removed]",
      "text/plain": [
       "<Figure size 504x360 with 1 Axes>"
      ]
     },
     "execution_count": 26,
     "metadata": {},
     "output_type": "execute_result"
    }
   ],
   "source": [
    "final_cirq.draw('mpl')\n",
    "backend = BasicAer.get_backend('qasm_simulator')\n",
    "counts = execute(final_cirq, backend,shots=10).result().get_counts()\n",
    "plot_histogram(counts)\n"
   ]
  },
  {
   "cell_type": "markdown",
   "metadata": {},
   "source": [
    "\n",
    "## FOR 100 shots below:"
   ]
  },
  {
   "cell_type": "code",
   "execution_count": 28,
   "metadata": {},
   "outputs": [],
   "source": [
    "def cost_func(params):\n",
    "    qc = cirq(params)\n",
    "    noise_model = custom_noise_model(2)\n",
    "    backend = Aer.get_backend(\"qasm_simulator\")\n",
    "    result = execute(qc, backend, shots=100, noise_model=noise_model).result()\n",
    "    counts = result.get_counts()\n",
    "    total = sum(counts.values())\n",
    "    zero_one = counts['01']/total if '01' in set(list(counts.keys())) else 0\n",
    "    one_zero = counts['10']/total if '10' in set(list(counts.keys())) else 0\n",
    "    return (0.5-zero_one)**2 + (0.5 - one_zero)**2"
   ]
  },
  {
   "cell_type": "code",
   "execution_count": 29,
   "metadata": {},
   "outputs": [
    {
     "name": "stdout",
     "output_type": "stream",
     "text": [
      "[ 1.62248425 -1.13889198 -2.00146029  0.42022558]\n",
      "(array([ 1.56998994, -1.1530896 , -3.05660085, -0.03903434]), 0.0162, None)\n",
      "          ┌──────────┐    ┌──────────┐        ░ ┌─┐   \n",
      "   q_0: ──┤ RX(1.57) ├────┤ RY(1.57) ├────■───░─┤M├───\n",
      "        ┌─┴──────────┴┐┌──┴──────────┴─┐┌─┴─┐ ░ └╥┘┌─┐\n",
      "   q_1: ┤ RX(-3.0566) ├┤ RY(-0.039034) ├┤ X ├─░──╫─┤M├\n",
      "        └─────────────┘└───────────────┘└───┘ ░  ║ └╥┘\n",
      "meas: 2/═════════════════════════════════════════╩══╩═\n",
      "                                                 0  1 \n"
     ]
    }
   ],
   "source": [
    "param = np.random.randn(4)\n",
    "#param=np.random.uniform(0.0,2*np.pi)\n",
    "print(param)\n",
    "#opt=COBYLA(maxiter=1000, disp=False, rhobeg=1.0, tol=None)\n",
    "opt = SPSA(maxiter=1000, save_steps=1, last_avg=1, c0=0.6283185307179586, c1=0.1, c2=0.602, c3=0.101, c4=0, skip_calibration=False, max_trials=None)\n",
    "\n",
    "\n",
    "ret = opt.optimize(num_vars=4, objective_function=cost_func, initial_point=param)\n",
    "print(ret)\n",
    "final_param = ret[0]\n",
    "final_cirq = cirq(final_param)\n",
    "print(final_cirq)\n",
    "#final_cirq2 = finalcirq.append(x(1))\n"
   ]
  },
  {
   "cell_type": "code",
   "execution_count": 30,
   "metadata": {},
   "outputs": [
    {
     "data": {
      "image/png": "[encoded data removed]",
      "text/plain": [
       "<Figure size 504x360 with 1 Axes>"
      ]
     },
     "execution_count": 30,
     "metadata": {},
     "output_type": "execute_result"
    }
   ],
   "source": [
    "final_cirq.draw('mpl')\n",
    "backend = BasicAer.get_backend('qasm_simulator')\n",
    "counts = execute(final_cirq, backend,shots=100).result().get_counts()\n",
    "plot_histogram(counts)\n"
   ]
  },
  {
   "cell_type": "markdown",
   "metadata": {},
   "source": [
    "## FOR 1000 shots below:"
   ]
  },
  {
   "cell_type": "code",
   "execution_count": 32,
   "metadata": {},
   "outputs": [],
   "source": [
    "def cost_func(params):\n",
    "    qc = cirq(params)\n",
    "    noise_model = custom_noise_model(2)\n",
    "    backend = Aer.get_backend(\"qasm_simulator\")\n",
    "    result = execute(qc, backend, shots=1000, noise_model=noise_model).result()\n",
    "    counts = result.get_counts()\n",
    "    total = sum(counts.values())\n",
    "    zero_one = counts['01']/total if '01' in set(list(counts.keys())) else 0\n",
    "    one_zero = counts['10']/total if '10' in set(list(counts.keys())) else 0\n",
    "    return (0.5-zero_one)**2 + (0.5 - one_zero)**2"
   ]
  },
  {
   "cell_type": "code",
   "execution_count": 33,
   "metadata": {},
   "outputs": [
    {
     "name": "stdout",
     "output_type": "stream",
     "text": [
      "[-1.48111008  0.64982468  0.72983308 -0.18955962]\n",
      "(array([-1.50811584, -0.60527137,  0.16882833, -2.91822622]), 0.001999999999999999, None)\n",
      "        ┌─────────────┐┌─────────────┐      ░ ┌─┐   \n",
      "   q_0: ┤ RX(-1.5081) ├┤ RY(-1.5081) ├──■───░─┤M├───\n",
      "        ├─────────────┤├─────────────┤┌─┴─┐ ░ └╥┘┌─┐\n",
      "   q_1: ┤ RX(0.16883) ├┤ RY(-2.9182) ├┤ X ├─░──╫─┤M├\n",
      "        └─────────────┘└─────────────┘└───┘ ░  ║ └╥┘\n",
      "meas: 2/═══════════════════════════════════════╩══╩═\n",
      "                                               0  1 \n"
     ]
    }
   ],
   "source": [
    "param = np.random.randn(4)\n",
    "#param=np.random.uniform(0.0,2*np.pi)\n",
    "print(param)\n",
    "#opt=COBYLA(maxiter=1000, disp=False, rhobeg=1.0, tol=None)\n",
    "opt = SPSA(maxiter=1000, save_steps=1, last_avg=1, c0=0.6283185307179586, c1=0.1, c2=0.602, c3=0.101, c4=0, skip_calibration=False, max_trials=None)\n",
    "\n",
    "\n",
    "ret = opt.optimize(num_vars=4, objective_function=cost_func, initial_point=param)\n",
    "print(ret)\n",
    "final_param = ret[0]\n",
    "final_cirq = cirq(final_param)\n",
    "print(final_cirq)\n",
    "#final_cirq2 = finalcirq.append(x(1))"
   ]
  },
  {
   "cell_type": "code",
   "execution_count": 34,
   "metadata": {},
   "outputs": [
    {
     "data": {
      "image/png": "[encoded data removed]",
      "text/plain": [
       "<Figure size 504x360 with 1 Axes>"
      ]
     },
     "execution_count": 34,
     "metadata": {},
     "output_type": "execute_result"
    }
   ],
   "source": [
    "final_cirq.draw('mpl')\n",
    "backend = BasicAer.get_backend('qasm_simulator')\n",
    "counts = execute(final_cirq, backend,shots=1000).result().get_counts()\n",
    "plot_histogram(counts)\n"
   ]
  },
  {
   "cell_type": "markdown",
   "metadata": {},
   "source": [
    "### Results 2: \n",
    "The results using SPSA are also quite similar in nature to the results achieved using COBYLA (i.e RESULT 1)."
   ]
  },
  {
   "cell_type": "markdown",
   "metadata": {},
   "source": [
    "## We attempt B now. (USING COBYLA)"
   ]
  },
  {
   "cell_type": "markdown",
   "metadata": {},
   "source": [
    "#### (III) Defining a function for only one layer consisting of a  R_x and a  R_y gate"
   ]
  },
  {
   "cell_type": "code",
   "execution_count": 213,
   "metadata": {},
   "outputs": [],
   "source": [
    "def rx_ry_layer(params:np.ndarray):\n",
    "    qc = QuantumCircuit(2)\n",
    "    qc.rx(params[0], 0)\n",
    "    qc.ry(params[1], 0)\n",
    "    qc.rx(np.pi,0)\n",
    "    #qc.i(1)\n",
    " \n",
    "    #qc.rx(params[2], 1)\n",
    "    #qc.ry(params[3], 1)\n",
    "    return qc"
   ]
  },
  {
   "cell_type": "markdown",
   "metadata": {},
   "source": [
    "#### (IV) Defined a function for CNOT and measurements. \n",
    "#### NOTE: Used a reverse CNOT ,by clubbing CNOT with two R_x=pi gates on both sides (reverse CNOT meaning - when control bit is 0, the target bit gets flipped AS OPPOSED to \"when control bit is 1, the target bit gets flipped for a traditional CNOT gate\" )."
   ]
  },
  {
   "cell_type": "code",
   "execution_count": 214,
   "metadata": {},
   "outputs": [],
   "source": [
    "def cirq(params:np.ndarray):\n",
    "    qc = rx_ry_layer(params)\n",
    "    qc.cx(0, 1)\n",
    "    #qc.x(0)\n",
    "    qc.rx(np.pi,0)\n",
    "    qc.measure_all()\n",
    "    return qc\n",
    "#qc.draw('mpl')"
   ]
  },
  {
   "cell_type": "markdown",
   "metadata": {},
   "source": [
    "#### (V) Defined a function for Cost Function."
   ]
  },
  {
   "cell_type": "code",
   "execution_count": 215,
   "metadata": {},
   "outputs": [],
   "source": [
    "def cost_func(params):\n",
    "    qc = cirq(params)\n",
    "    # print(qc)\n",
    "    noise_model = custom_noise_model(2)\n",
    "    backend = Aer.get_backend(\"qasm_simulator\")\n",
    "    result = execute(qc, backend, shots=1, noise_model=noise_model).result()\n",
    "    counts = result.get_counts()\n",
    "    total = sum(counts.values())\n",
    "    zero_one = counts['01']/total if '01' in set(list(counts.keys())) else 0\n",
    "    one_zero = counts['10']/total if '10' in set(list(counts.keys())) else 0\n",
    "    return (0.5-zero_one)**2 + (0.5 - one_zero)**2"
   ]
  },
  {
   "cell_type": "markdown",
   "metadata": {},
   "source": [
    "#### (VI) Initialised a random array of parameters, optimised using COBYLA and printed the final circuit.\n"
   ]
  },
  {
   "cell_type": "code",
   "execution_count": 216,
   "metadata": {},
   "outputs": [
    {
     "name": "stdout",
     "output_type": "stream",
     "text": [
      "[ 1.83702129 -0.1267582 ]\n",
      "(array([ 1.83702129, -0.1267582 ]), 0.5, 13)\n",
      "        ┌───────────┐┌──────────────┐┌────────┐     ┌────────┐ ░ ┌─┐   \n",
      "   q_0: ┤ RX(1.837) ├┤ RY(-0.12676) ├┤ RX(pi) ├──■──┤ RX(pi) ├─░─┤M├───\n",
      "        └───────────┘└──────────────┘└────────┘┌─┴─┐└────────┘ ░ └╥┘┌─┐\n",
      "   q_1: ───────────────────────────────────────┤ X ├───────────░──╫─┤M├\n",
      "                                               └───┘           ░  ║ └╥┘\n",
      "meas: 2/══════════════════════════════════════════════════════════╩══╩═\n",
      "                                                                  0  1 \n"
     ]
    },
    {
     "data": {
      "image/png": "[encoded data removed]",
      "text/plain": [
       "<Figure size 712.859x204.68 with 1 Axes>"
      ]
     },
     "execution_count": 216,
     "metadata": {},
     "output_type": "execute_result"
    }
   ],
   "source": [
    "param = np.random.randn(2)\n",
    "print(param)\n",
    "opt=COBYLA(maxiter=1000, disp=False, rhobeg=1.0, tol=None)\n",
    "#opt = SPSA(maxiter=1000, save_steps=1, last_avg=1, c0=0.6283185307179586, c1=0.1, c2=0.602, c3=0.101, c4=0, skip_calibration=False, max_trials=None)\n",
    "#opt=AQGD(maxiter=200, eta=0.01, tol=0.0000001, disp=True, momentum=0.25)\n",
    "#opt=ADAM(maxiter=10000, tol=0.0001, lr=0.001, beta_1=0.9, beta_2=0.99, noise_factor=1e-08, eps=1e-10, amsgrad=True, snapshot_dir=None)\n",
    "ret = opt.optimize(num_vars=2, objective_function=cost_func, initial_point=param)\n",
    "print(ret)\n",
    "final_param = ret[0]\n",
    "final_cirq = cirq(final_param)\n",
    "print(final_cirq)\n",
    "final_cirq.draw('mpl')"
   ]
  },
  {
   "cell_type": "code",
   "execution_count": null,
   "metadata": {},
   "outputs": [],
   "source": []
  },
  {
   "cell_type": "markdown",
   "metadata": {},
   "source": [
    "####  (VII ) Plotted the histogram results.\n",
    "Used 1 as the no. of shots."
   ]
  },
  {
   "cell_type": "code",
   "execution_count": 217,
   "metadata": {},
   "outputs": [
    {
     "data": {
      "image/png": "[encoded data removed]",
      "text/plain": [
       "<Figure size 504x360 with 1 Axes>"
      ]
     },
     "execution_count": 217,
     "metadata": {},
     "output_type": "execute_result"
    }
   ],
   "source": [
    "backend = BasicAer.get_backend('qasm_simulator')\n",
    "counts = execute(final_cirq, backend, shots=1).result().get_counts()\n",
    "plot_histogram(counts)\n"
   ]
  },
  {
   "cell_type": "markdown",
   "metadata": {},
   "source": [
    "####  (VII )Created the final circuit without the measurement gates to obtain state vector"
   ]
  },
  {
   "cell_type": "code",
   "execution_count": 218,
   "metadata": {},
   "outputs": [
    {
     "data": {
      "image/png": "[encoded data removed]",
      "text/plain": [
       "<Figure size 562.032x144.48 with 1 Axes>"
      ]
     },
     "execution_count": 218,
     "metadata": {},
     "output_type": "execute_result"
    }
   ],
   "source": [
    "sans_measurements = QuantumCircuit(2)\n",
    "sans_measurements.data = final_cirq.data[:-2]\n",
    "sans_measurements.draw('mpl')"
   ]
  },
  {
   "cell_type": "markdown",
   "metadata": {},
   "source": [
    "#### (VIII) Printed the statevector just before the last two measurements."
   ]
  },
  {
   "cell_type": "code",
   "execution_count": 219,
   "metadata": {},
   "outputs": [
    {
     "name": "stdout",
     "output_type": "stream",
     "text": [
      "[4.86205693e-17+0.00000000e+00j 4.86205693e-17-7.94034155e-01j\n",
      " 6.07512247e-01-2.09435205e-02j 1.28242077e-18+3.71993964e-17j]\n"
     ]
    }
   ],
   "source": [
    "simulator = Aer.get_backend('statevector_simulator')\n",
    "result = execute(sans_measurements, backend=simulator).result()\n",
    "statevector = result.get_statevector()\n",
    "\n",
    "print(statevector)"
   ]
  },
  {
   "cell_type": "markdown",
   "metadata": {},
   "source": [
    "#### Above tried using COBYLA for 1 shot of measurement per iteration.\n",
    "#### Below for 10 shots"
   ]
  },
  {
   "cell_type": "code",
   "execution_count": 54,
   "metadata": {},
   "outputs": [],
   "source": [
    "def cost_func(params):\n",
    "    qc = cirq(params)\n",
    "    # print(qc)\n",
    "    noise_model = custom_noise_model(2)\n",
    "    backend = Aer.get_backend(\"qasm_simulator\")\n",
    "    result = execute(qc, backend, shots=10, noise_model=noise_model).result()\n",
    "    counts = result.get_counts()\n",
    "    total = sum(counts.values())\n",
    "    zero_one = counts['01']/total if '01' in set(list(counts.keys())) else 0\n",
    "    one_zero = counts['10']/total if '10' in set(list(counts.keys())) else 0\n",
    "    return (0.5-zero_one)**2 + (0.5 - one_zero)**2"
   ]
  },
  {
   "cell_type": "code",
   "execution_count": 55,
   "metadata": {},
   "outputs": [
    {
     "name": "stdout",
     "output_type": "stream",
     "text": [
      "[-1.26377239 -1.00626377]\n",
      "(array([-0.26382055, -1.00617613]), 0.07999999999999999, 28)\n",
      "        ┌──────────────┐┌─────────────┐┌────────┐     ┌────────┐ ░ ┌─┐   \n",
      "   q_0: ┤ RX(-0.26382) ├┤ RY(-1.0062) ├┤ RX(pi) ├──■──┤ RX(pi) ├─░─┤M├───\n",
      "        └──────────────┘└─────────────┘└────────┘┌─┴─┐└────────┘ ░ └╥┘┌─┐\n",
      "   q_1: ─────────────────────────────────────────┤ X ├───────────░──╫─┤M├\n",
      "                                                 └───┘           ░  ║ └╥┘\n",
      "meas: 2/════════════════════════════════════════════════════════════╩══╩═\n",
      "                                                                    0  1 \n"
     ]
    },
    {
     "data": {
      "image/png": "[encoded data removed]",
      "text/plain": [
       "<Figure size 712.859x204.68 with 1 Axes>"
      ]
     },
     "execution_count": 55,
     "metadata": {},
     "output_type": "execute_result"
    }
   ],
   "source": [
    "param = np.random.randn(2)\n",
    "print(param)\n",
    "opt=COBYLA(maxiter=1000, disp=False, rhobeg=1.0, tol=None)\n",
    "#opt = SPSA(maxiter=1000, save_steps=1, last_avg=1, c0=0.6283185307179586, c1=0.1, c2=0.602, c3=0.101, c4=0, skip_calibration=False, max_trials=None)\n",
    "#opt=AQGD(maxiter=200, eta=0.01, tol=0.0000001, disp=True, momentum=0.25)\n",
    "#opt=ADAM(maxiter=10000, tol=0.0001, lr=0.001, beta_1=0.9, beta_2=0.99, noise_factor=1e-08, eps=1e-10, amsgrad=True, snapshot_dir=None)\n",
    "ret = opt.optimize(num_vars=2, objective_function=cost_func, initial_point=param)\n",
    "print(ret)\n",
    "final_param = ret[0]\n",
    "final_cirq = cirq(final_param)\n",
    "print(final_cirq)\n",
    "final_cirq.draw('mpl')"
   ]
  },
  {
   "cell_type": "code",
   "execution_count": 56,
   "metadata": {},
   "outputs": [
    {
     "data": {
      "image/png": "[encoded data removed]",
      "text/plain": [
       "<Figure size 504x360 with 1 Axes>"
      ]
     },
     "execution_count": 56,
     "metadata": {},
     "output_type": "execute_result"
    }
   ],
   "source": [
    "backend = BasicAer.get_backend('qasm_simulator')\n",
    "counts = execute(final_cirq, backend, shots=10).result().get_counts()\n",
    "plot_histogram(counts)\n"
   ]
  },
  {
   "cell_type": "markdown",
   "metadata": {},
   "source": [
    "#### Above tried using COBYLA for 10 shot of measurement per iteration.\n",
    "#### Below for 100 shots"
   ]
  },
  {
   "cell_type": "code",
   "execution_count": 59,
   "metadata": {},
   "outputs": [],
   "source": [
    "def cost_func(params):\n",
    "    qc = cirq(params)\n",
    "    # print(qc)\n",
    "    noise_model = custom_noise_model(2)\n",
    "    backend = Aer.get_backend(\"qasm_simulator\")\n",
    "    result = execute(qc, backend, shots=100, noise_model=noise_model).result()\n",
    "    counts = result.get_counts()\n",
    "    total = sum(counts.values())\n",
    "    zero_one = counts['01']/total if '01' in set(list(counts.keys())) else 0\n",
    "    one_zero = counts['10']/total if '10' in set(list(counts.keys())) else 0\n",
    "    return (0.5-zero_one)**2 + (0.5 - one_zero)**2"
   ]
  },
  {
   "cell_type": "code",
   "execution_count": 60,
   "metadata": {},
   "outputs": [
    {
     "name": "stdout",
     "output_type": "stream",
     "text": [
      "[-0.22534202 -0.30626121]\n",
      "(array([1.38244295, 1.38771133]), 0.006100000000000005, 30)\n",
      "        ┌────────────┐┌────────────┐┌────────┐     ┌────────┐ ░ ┌─┐   \n",
      "   q_0: ┤ RX(1.3824) ├┤ RY(1.3877) ├┤ RX(pi) ├──■──┤ RX(pi) ├─░─┤M├───\n",
      "        └────────────┘└────────────┘└────────┘┌─┴─┐└────────┘ ░ └╥┘┌─┐\n",
      "   q_1: ──────────────────────────────────────┤ X ├───────────░──╫─┤M├\n",
      "                                              └───┘           ░  ║ └╥┘\n",
      "meas: 2/═════════════════════════════════════════════════════════╩══╩═\n",
      "                                                                 0  1 \n"
     ]
    },
    {
     "data": {
      "image/png": "[encoded data removed]",
      "text/plain": [
       "<Figure size 652.659x204.68 with 1 Axes>"
      ]
     },
     "execution_count": 60,
     "metadata": {},
     "output_type": "execute_result"
    }
   ],
   "source": [
    "param = np.random.randn(2)\n",
    "print(param)\n",
    "opt=COBYLA(maxiter=1000, disp=False, rhobeg=1.0, tol=None)\n",
    "#opt = SPSA(maxiter=1000, save_steps=1, last_avg=1, c0=0.6283185307179586, c1=0.1, c2=0.602, c3=0.101, c4=0, skip_calibration=False, max_trials=None)\n",
    "#opt=AQGD(maxiter=200, eta=0.01, tol=0.0000001, disp=True, momentum=0.25)\n",
    "#opt=ADAM(maxiter=10000, tol=0.0001, lr=0.001, beta_1=0.9, beta_2=0.99, noise_factor=1e-08, eps=1e-10, amsgrad=True, snapshot_dir=None)\n",
    "ret = opt.optimize(num_vars=2, objective_function=cost_func, initial_point=param)\n",
    "print(ret)\n",
    "final_param = ret[0]\n",
    "final_cirq = cirq(final_param)\n",
    "print(final_cirq)\n",
    "final_cirq.draw('mpl')"
   ]
  },
  {
   "cell_type": "code",
   "execution_count": 61,
   "metadata": {},
   "outputs": [
    {
     "data": {
      "image/png": "[encoded data removed]",
      "text/plain": [
       "<Figure size 504x360 with 1 Axes>"
      ]
     },
     "execution_count": 61,
     "metadata": {},
     "output_type": "execute_result"
    }
   ],
   "source": [
    "backend = BasicAer.get_backend('qasm_simulator')\n",
    "counts = execute(final_cirq, backend, shots=100).result().get_counts()\n",
    "plot_histogram(counts)"
   ]
  },
  {
   "cell_type": "markdown",
   "metadata": {},
   "source": [
    "#### Above tried using COBYLA for 100 shot of measurement per iteration.\n",
    "#### Below for 1000 shots"
   ]
  },
  {
   "cell_type": "code",
   "execution_count": 67,
   "metadata": {},
   "outputs": [],
   "source": [
    "def cost_func(params):\n",
    "    qc = cirq(params)\n",
    "    # print(qc)\n",
    "    noise_model = custom_noise_model(2)\n",
    "    backend = Aer.get_backend(\"qasm_simulator\")\n",
    "    result = execute(qc, backend, shots=1000, noise_model=noise_model).result()\n",
    "    counts = result.get_counts()\n",
    "    total = sum(counts.values())\n",
    "    zero_one = counts['01']/total if '01' in set(list(counts.keys())) else 0\n",
    "    one_zero = counts['10']/total if '10' in set(list(counts.keys())) else 0\n",
    "    return (0.5-zero_one)**2 + (0.5 - one_zero)**2"
   ]
  },
  {
   "cell_type": "code",
   "execution_count": 68,
   "metadata": {},
   "outputs": [
    {
     "name": "stdout",
     "output_type": "stream",
     "text": [
      "[1.10262168 0.80228208]\n",
      "(array([1.87011782, 1.6253295 ]), 0.0002260000000000004, 31)\n",
      "        ┌────────────┐┌────────────┐┌────────┐     ┌────────┐ ░ ┌─┐   \n",
      "   q_0: ┤ RX(1.8701) ├┤ RY(1.6253) ├┤ RX(pi) ├──■──┤ RX(pi) ├─░─┤M├───\n",
      "        └────────────┘└────────────┘└────────┘┌─┴─┐└────────┘ ░ └╥┘┌─┐\n",
      "   q_1: ──────────────────────────────────────┤ X ├───────────░──╫─┤M├\n",
      "                                              └───┘           ░  ║ └╥┘\n",
      "meas: 2/═════════════════════════════════════════════════════════╩══╩═\n",
      "                                                                 0  1 \n"
     ]
    },
    {
     "data": {
      "image/png": "[encoded data removed]",
      "text/plain": [
       "<Figure size 652.659x204.68 with 1 Axes>"
      ]
     },
     "execution_count": 68,
     "metadata": {},
     "output_type": "execute_result"
    }
   ],
   "source": [
    "param = np.random.randn(2)\n",
    "print(param)\n",
    "opt=COBYLA(maxiter=1000, disp=False, rhobeg=1.0, tol=None)\n",
    "#opt = SPSA(maxiter=1000, save_steps=1, last_avg=1, c0=0.6283185307179586, c1=0.1, c2=0.602, c3=0.101, c4=0, skip_calibration=False, max_trials=None)\n",
    "#opt=AQGD(maxiter=200, eta=0.01, tol=0.0000001, disp=True, momentum=0.25)\n",
    "#opt=ADAM(maxiter=10000, tol=0.0001, lr=0.001, beta_1=0.9, beta_2=0.99, noise_factor=1e-08, eps=1e-10, amsgrad=True, snapshot_dir=None)\n",
    "ret = opt.optimize(num_vars=2, objective_function=cost_func, initial_point=param)\n",
    "print(ret)\n",
    "final_param = ret[0]\n",
    "final_cirq = cirq(final_param)\n",
    "print(final_cirq)\n",
    "final_cirq.draw('mpl')"
   ]
  },
  {
   "cell_type": "code",
   "execution_count": 69,
   "metadata": {},
   "outputs": [
    {
     "data": {
      "image/png": "[encoded data removed]",
      "text/plain": [
       "<Figure size 504x360 with 1 Axes>"
      ]
     },
     "execution_count": 69,
     "metadata": {},
     "output_type": "execute_result"
    }
   ],
   "source": [
    "backend = BasicAer.get_backend('qasm_simulator')\n",
    "counts = execute(final_cirq, backend, shots=1000).result().get_counts()\n",
    "plot_histogram(counts)"
   ]
  },
  {
   "cell_type": "markdown",
   "metadata": {},
   "source": [
    "#### Optional : Above tried using COBYLA for 1000 shots of measurements per iteration.\n",
    "#### Below for 65536 shots"
   ]
  },
  {
   "cell_type": "code",
   "execution_count": 73,
   "metadata": {},
   "outputs": [],
   "source": [
    "def cost_func(params):\n",
    "    qc = cirq(params)\n",
    "    # print(qc)\n",
    "    noise_model = custom_noise_model(2)\n",
    "    backend = Aer.get_backend(\"qasm_simulator\")\n",
    "    result = execute(qc, backend, shots=65536, noise_model=noise_model).result()\n",
    "    counts = result.get_counts()\n",
    "    total = sum(counts.values())\n",
    "    zero_one = counts['01']/total if '01' in set(list(counts.keys())) else 0\n",
    "    one_zero = counts['10']/total if '10' in set(list(counts.keys())) else 0\n",
    "    return (0.5-zero_one)**2 + (0.5 - one_zero)**2"
   ]
  },
  {
   "cell_type": "code",
   "execution_count": 74,
   "metadata": {},
   "outputs": [
    {
     "name": "stdout",
     "output_type": "stream",
     "text": [
      "[0.03889702 0.37319623]\n",
      "(array([1.59477421, 1.9262538 ]), 4.235701635479927e-05, 36)\n",
      "        ┌────────────┐┌────────────┐┌────────┐     ┌────────┐ ░ ┌─┐   \n",
      "   q_0: ┤ RX(1.5948) ├┤ RY(1.9263) ├┤ RX(pi) ├──■──┤ RX(pi) ├─░─┤M├───\n",
      "        └────────────┘└────────────┘└────────┘┌─┴─┐└────────┘ ░ └╥┘┌─┐\n",
      "   q_1: ──────────────────────────────────────┤ X ├───────────░──╫─┤M├\n",
      "                                              └───┘           ░  ║ └╥┘\n",
      "meas: 2/═════════════════════════════════════════════════════════╩══╩═\n",
      "                                                                 0  1 \n"
     ]
    },
    {
     "data": {
      "image/png": "[encoded data removed]",
      "text/plain": [
       "<Figure size 652.659x204.68 with 1 Axes>"
      ]
     },
     "execution_count": 74,
     "metadata": {},
     "output_type": "execute_result"
    }
   ],
   "source": [
    "param = np.random.randn(2)\n",
    "print(param)\n",
    "opt=COBYLA(maxiter=1000, disp=False, rhobeg=1.0, tol=None)\n",
    "#opt = SPSA(maxiter=1000, save_steps=1, last_avg=1, c0=0.6283185307179586, c1=0.1, c2=0.602, c3=0.101, c4=0, skip_calibration=False, max_trials=None)\n",
    "#opt=AQGD(maxiter=200, eta=0.01, tol=0.0000001, disp=True, momentum=0.25)\n",
    "#opt=ADAM(maxiter=10000, tol=0.0001, lr=0.001, beta_1=0.9, beta_2=0.99, noise_factor=1e-08, eps=1e-10, amsgrad=True, snapshot_dir=None)\n",
    "ret = opt.optimize(num_vars=2, objective_function=cost_func, initial_point=param)\n",
    "print(ret)\n",
    "final_param = ret[0]\n",
    "final_cirq = cirq(final_param)\n",
    "print(final_cirq)\n",
    "final_cirq.draw('mpl')"
   ]
  },
  {
   "cell_type": "code",
   "execution_count": 76,
   "metadata": {},
   "outputs": [
    {
     "data": {
      "image/png": "[encoded data removed]",
      "text/plain": [
       "<Figure size 504x360 with 1 Axes>"
      ]
     },
     "execution_count": 76,
     "metadata": {},
     "output_type": "execute_result"
    }
   ],
   "source": [
    "backend = BasicAer.get_backend('qasm_simulator')\n",
    "counts = execute(final_cirq, backend, shots=65536).result().get_counts()\n",
    "plot_histogram(counts)"
   ]
  },
  {
   "cell_type": "code",
   "execution_count": 77,
   "metadata": {},
   "outputs": [
    {
     "data": {
      "image/png": "[encoded data removed]",
      "text/plain": [
       "<Figure size 501.832x144.48 with 1 Axes>"
      ]
     },
     "execution_count": 77,
     "metadata": {},
     "output_type": "execute_result"
    }
   ],
   "source": [
    "sans_measurements = QuantumCircuit(2)\n",
    "sans_measurements.data = final_cirq.data[:-2]\n",
    "sans_measurements.draw('mpl')"
   ]
  },
  {
   "cell_type": "code",
   "execution_count": 78,
   "metadata": {},
   "outputs": [
    {
     "name": "stdout",
     "output_type": "stream",
     "text": [
      "[ 4.31167867e-17+0.00000000e+00j  4.31167867e-17-7.04150564e-01j\n",
      "  7.09871295e-01+1.59602325e-02j -9.77282380e-19+4.34670804e-17j]\n"
     ]
    }
   ],
   "source": [
    "simulator = Aer.get_backend('statevector_simulator')\n",
    "result = execute(sans_measurements, backend=simulator).result()\n",
    "statevector = result.get_statevector()\n",
    "\n",
    "print(statevector)"
   ]
  },
  {
   "cell_type": "markdown",
   "metadata": {},
   "source": [
    "#### RESULTS 3:\n",
    "The results achieved by using 2 parametrised gates are also quite similar to results achieved by 4 parametrised gates (RESULT 1 using COBYLA and RESULT 2 using SPSA)."
   ]
  },
  {
   "cell_type": "markdown",
   "metadata": {},
   "source": [
    "## We now attempt the bonus section (USING COBYLA)."
   ]
  },
  {
   "cell_type": "code",
   "execution_count": 80,
   "metadata": {},
   "outputs": [],
   "source": [
    "def rx_ry_layer(params:np.ndarray):\n",
    "    qc = QuantumCircuit(2)\n",
    "    #qc.rx(params[0], 0)\n",
    "    qc.ry(params[0], 0)\n",
    "    #qc.i(1)\n",
    "    qc.rx(np.pi,1)\n",
    "  \n",
    "    return qc"
   ]
  },
  {
   "cell_type": "code",
   "execution_count": 81,
   "metadata": {},
   "outputs": [],
   "source": [
    "def cirq(params:np.ndarray):\n",
    "    qc = rx_ry_layer(params)\n",
    "    qc.cx(0, 1)\n",
    "\n",
    "   \n",
    "    qc.measure_all()\n",
    "    return qc\n",
    "#qc.draw('mpl')"
   ]
  },
  {
   "cell_type": "code",
   "execution_count": 125,
   "metadata": {},
   "outputs": [],
   "source": [
    "def cost_func(params):\n",
    "    qc = cirq(params)\n",
    "    # print(qc)\n",
    "    noise_model = custom_noise_model(2)\n",
    "    backend = Aer.get_backend(\"qasm_simulator\")\n",
    "    result = execute(qc, backend, shots=65536, noise_model=noise_model).result()\n",
    "    counts = result.get_counts()\n",
    "    total = sum(counts.values())\n",
    "    zero_one = counts['01']/total if '01' in set(list(counts.keys())) else 0\n",
    "    one_zero = counts['10']/total if '10' in set(list(counts.keys())) else 0\n",
    "    return (0.5-zero_one)**2 + (0.5 - one_zero)**2"
   ]
  },
  {
   "cell_type": "code",
   "execution_count": 126,
   "metadata": {},
   "outputs": [
    {
     "name": "stdout",
     "output_type": "stream",
     "text": [
      "[-0.61231202]\n",
      "(array([-1.58018546]), 0.00011488143354654312, 21)\n",
      "        ┌────────────┐      ░ ┌─┐   \n",
      "   q_0: ┤ RY(1.5614) ├──■───░─┤M├───\n",
      "        └─┬────────┬─┘┌─┴─┐ ░ └╥┘┌─┐\n",
      "   q_1: ──┤ RX(pi) ├──┤ X ├─░──╫─┤M├\n",
      "          └────────┘  └───┘ ░  ║ └╥┘\n",
      "meas: 2/═══════════════════════╩══╩═\n",
      "                               0  1 \n"
     ]
    },
    {
     "data": {
      "image/png": "[encoded data removed]",
      "text/plain": [
       "<Figure size 472.059x204.68 with 1 Axes>"
      ]
     },
     "execution_count": 126,
     "metadata": {},
     "output_type": "execute_result"
    }
   ],
   "source": [
    "\n",
    "param = np.random.randn(1)\n",
    "#param=np.random.uniform(0.0,2*np.pi)\n",
    "print(param)\n",
    "opt=COBYLA(maxiter=1000, disp=False, rhobeg=1.0, tol=None)\n",
    "#opt = SPSA(maxiter=1000, save_steps=1, last_avg=1, c0=0.6283185307179586, c1=0.1, c2=0.602, c3=0.101, c4=0, skip_calibration=False, max_trials=None)\n",
    "#opt=AQGD(maxiter=200, eta=0.01, tol=0.0000001, disp=True, momentum=0.25)\n",
    "#opt=ADAM(maxiter=10000, tol=0.0001, lr=0.001, beta_1=0.9, beta_2=0.99, noise_factor=1e-08, eps=1e-10, amsgrad=True, snapshot_dir=None)\n",
    "ret = opt.optimize(num_vars=1, objective_function=cost_func, initial_point=param)\n",
    "print(ret)\n",
    "final_param = ret[0]%(np.pi)\n",
    "final_cirq = cirq(final_param)\n",
    "\n",
    "\n",
    "\n",
    "print(final_cirq)\n",
    "final_cirq.draw('mpl')"
   ]
  },
  {
   "cell_type": "code",
   "execution_count": 127,
   "metadata": {},
   "outputs": [
    {
     "data": {
      "image/png": "[encoded data removed]",
      "text/plain": [
       "<Figure size 321.232x144.48 with 1 Axes>"
      ]
     },
     "execution_count": 127,
     "metadata": {},
     "output_type": "execute_result"
    }
   ],
   "source": [
    "sans_measurements = QuantumCircuit(2)\n",
    "sans_measurements.data = final_cirq.data[:-2]\n",
    "sans_measurements.draw('mpl')\n"
   ]
  },
  {
   "cell_type": "code",
   "execution_count": 128,
   "metadata": {},
   "outputs": [
    {
     "data": {
      "image/png": "[encoded data removed]",
      "text/plain": [
       "<Figure size 504x360 with 1 Axes>"
      ]
     },
     "execution_count": 128,
     "metadata": {},
     "output_type": "execute_result"
    }
   ],
   "source": [
    "backend = BasicAer.get_backend('qasm_simulator')\n",
    "counts = execute(final_cirq, backend, shots=65536).result().get_counts()\n",
    "plot_histogram(counts)\n"
   ]
  },
  {
   "cell_type": "code",
   "execution_count": 129,
   "metadata": {},
   "outputs": [
    {
     "name": "stdout",
     "output_type": "stream",
     "text": [
      "[4.35005893e-17+0.j         4.30940621e-17-0.70377944j\n",
      " 4.35005893e-17-0.71041854j 4.30940621e-17+0.j        ]\n"
     ]
    }
   ],
   "source": [
    "simulator = Aer.get_backend('statevector_simulator')\n",
    "result = execute(sans_measurements, backend=simulator).result()\n",
    "statevector = result.get_statevector()\n",
    "print(statevector)\n",
    "\n"
   ]
  },
  {
   "cell_type": "markdown",
   "metadata": {},
   "source": [
    "# Results and Explanations (*): \n",
    "1. We observe the state vector looks like : ((-i |01> - i |10>)/sqrt(2)). And -i can be treated as a global phase here, so, essentially our statevector |psi> is |01>+|10>/sqrt(2) with no relative phases involved OR\n",
    "$$\n",
    "|psi\\rangle = \\tfrac{-i}{\\sqrt{2}}(|01\\rangle + |10\\rangle)\n",
    "$$\n",
    "2. The reason of getting '-i' as a global phase is : \n",
    "R_x gate looks like:\n",
    "$$\n",
    "R_x(\\theta) = \\begin{bmatrix} \\cos(\\theta/2) & -{i}\\sin(\\theta/2) \\\\\n",
    "           -{i}\\sin(\\theta/2)  & \\cos(\\theta/2)\n",
    "     \\end{bmatrix}\n",
    "$$\n",
    "When $$  \\theta=\\pi ,$$ we get the matrix : \n",
    "$$\n",
    "R_x(\\theta= \\pi) = \\begin{bmatrix} {0} & -{i} \\\\\n",
    "           -{i}  & {0}\n",
    "     \\end{bmatrix}\n",
    "$$\n",
    "\n",
    "      Hence, -i comes out as a global phase.\n",
    "\n",
    "### NOTE: \n",
    "  If we use a X gate, in place of R_x=pi gate, we would have got the state :\n",
    "$$\n",
    "|psi\\rangle = \\tfrac{1}{\\sqrt{2}}(|01\\rangle + |10\\rangle)\n",
    "$$\n",
    "  with no global phase involved. Statevector |psi> would have looked like this:  (0.        +0.j 0.7082849 +0.j 0.70592669+0.j 0.        +0.j)\n",
    "\n"
   ]
  },
  {
   "cell_type": "markdown",
   "metadata": {},
   "source": []
  },
  {
   "cell_type": "markdown",
   "metadata": {},
   "source": []
  },
  {
   "cell_type": "markdown",
   "metadata": {},
   "source": [
    "## Alternate for the BONUS Part\n",
    "#### Using a classical gradient using (i) R_x gate , (ii)=X gate     \n"
   ]
  },
  {
   "cell_type": "markdown",
   "metadata": {},
   "source": [
    "### (i) Using R_x, R_y and CNOT."
   ]
  },
  {
   "cell_type": "code",
   "execution_count": 130,
   "metadata": {},
   "outputs": [],
   "source": [
    "import numpy as np\n",
    "import math\n",
    "from random import *\n",
    "from qiskit import QuantumCircuit, QuantumRegister, ClassicalRegister, execute, BasicAer, IBMQ\n",
    "from qiskit.visualization import plot_histogram, plot_bloch_multivector\n",
    "from qiskit.extensions import Initialize\n",
    "from qiskit_textbook.tools import random_state, array_to_latex\n",
    "\n"
   ]
  },
  {
   "cell_type": "code",
   "execution_count": 131,
   "metadata": {},
   "outputs": [
    {
     "name": "stdout",
     "output_type": "stream",
     "text": [
      "Starting Parameter: 1.1456626237527596\n"
     ]
    }
   ],
   "source": [
    "theta = np.random.uniform(0.0,2*np.pi)\n",
    "print(\"Starting Parameter:\",theta)"
   ]
  },
  {
   "cell_type": "code",
   "execution_count": 221,
   "metadata": {},
   "outputs": [
    {
     "name": "stdout",
     "output_type": "stream",
     "text": [
      "Optimal Parameter: 1.5659001765140812\n"
     ]
    }
   ],
   "source": [
    "a = 0.01\n",
    "while(True):\n",
    "    #q = QuantumRegister(2)\n",
    "    #c = ClassicalRegister(2)\n",
    "    circuit = QuantumCircuit(2)\n",
    "    circuit.ry(theta,0)\n",
    "    circuit.rx(np.pi, 1)\n",
    "    circuit.cx(0,1)\n",
    "    circuit.measure_all()\n",
    "    job = execute(circuit, backend, shots=1024)\n",
    "    probdict = job.result().get_counts(circuit)\n",
    "   \n",
    "    #print(\"theta1 :\" ,prob)\n",
    "    \n",
    "    prob1 = math.tan(theta/2)*math.tan(theta/2)\n",
    "    cost = (prob1-1)*(prob1-1)\n",
    "\n",
    "    if cost <= 0.0001:\n",
    "        print(\"Optimal Parameter:\",theta)\n",
    "        break\n",
    "    dcost = 2*(math.tan(theta/2)*math.tan(theta/2)-1)*math.tan(theta/2)/math.cos(theta/2)/math.cos(theta/2)\n",
    "    theta = (theta - a*dcost)%(2*np.pi)"
   ]
  },
  {
   "cell_type": "code",
   "execution_count": 222,
   "metadata": {},
   "outputs": [
    {
     "data": {
      "image/png": "[encoded data removed]",
      "text/plain": [
       "<Figure size 472.059x204.68 with 1 Axes>"
      ]
     },
     "execution_count": 222,
     "metadata": {},
     "output_type": "execute_result"
    }
   ],
   "source": [
    "#q = QuantumRegister(2)\n",
    "#c = ClassicalRegister(2)\n",
    "circuit = QuantumCircuit(2)\n",
    "circuit.ry(theta,0)\n",
    "circuit.rx(np.pi, 1)\n",
    "circuit.cx(0,1)\n",
    "circuit.measure_all()\n",
    "circuit.draw(output='mpl')"
   ]
  },
  {
   "cell_type": "code",
   "execution_count": 223,
   "metadata": {},
   "outputs": [
    {
     "data": {
      "image/png": "[encoded data removed]",
      "text/plain": [
       "<Figure size 504x360 with 1 Axes>"
      ]
     },
     "execution_count": 223,
     "metadata": {},
     "output_type": "execute_result"
    }
   ],
   "source": [
    "job = execute(circuit, backend, shots=1000)\n",
    "plot_histogram(job.result().get_counts(circuit))"
   ]
  },
  {
   "cell_type": "code",
   "execution_count": 224,
   "metadata": {},
   "outputs": [
    {
     "data": {
      "image/png": "[encoded data removed]",
      "text/plain": [
       "<Figure size 321.232x144.48 with 1 Axes>"
      ]
     },
     "execution_count": 224,
     "metadata": {},
     "output_type": "execute_result"
    }
   ],
   "source": [
    "sans_measurements = QuantumCircuit(2)\n",
    "sans_measurements.data = circuit.data[:-2]\n",
    "sans_measurements.draw('mpl')\n"
   ]
  },
  {
   "cell_type": "code",
   "execution_count": 225,
   "metadata": {},
   "outputs": [
    {
     "name": "stdout",
     "output_type": "stream",
     "text": [
      "[4.34036692e-17+0.j         4.31916769e-17-0.70537361j\n",
      " 4.34036692e-17-0.70883571j 4.31916769e-17+0.j        ]\n"
     ]
    }
   ],
   "source": [
    "simulator = Aer.get_backend('statevector_simulator')\n",
    "result = execute(sans_measurements, backend=simulator).result()\n",
    "statevector = result.get_statevector()\n",
    "\n",
    "print(statevector)"
   ]
  },
  {
   "cell_type": "markdown",
   "metadata": {},
   "source": [
    "### ( ii ) Using X gate (special case of R_X gate, since -i*X= R_X(for theta=phi)), R_Y and CNOT gates."
   ]
  },
  {
   "cell_type": "code",
   "execution_count": 226,
   "metadata": {},
   "outputs": [
    {
     "name": "stdout",
     "output_type": "stream",
     "text": [
      "Starting Parameter: 3.9720695228435288\n"
     ]
    }
   ],
   "source": [
    "theta = np.random.uniform(0.0,2*np.pi)\n",
    "print(\"Starting Parameter:\",theta)"
   ]
  },
  {
   "cell_type": "code",
   "execution_count": 228,
   "metadata": {},
   "outputs": [
    {
     "name": "stdout",
     "output_type": "stream",
     "text": [
      "Optimal Parameter: 4.717308537525551\n"
     ]
    }
   ],
   "source": [
    "a = 0.01\n",
    "while(True):\n",
    "    #q = QuantumRegister(2)\n",
    "    #c = ClassicalRegister(2)\n",
    "    circuit = QuantumCircuit(2)\n",
    "    circuit.ry(theta,0)\n",
    "    circuit.x(1)\n",
    "    circuit.cx(0,1)\n",
    "    circuit.measure_all()\n",
    "    job = execute(circuit, backend, shots=1024)\n",
    "    probdict = job.result().get_counts(circuit)\n",
    "   \n",
    "    #print(\"theta1 :\" ,prob)\n",
    "    \n",
    "    prob1 = math.tan(theta/2)*math.tan(theta/2)\n",
    "    cost = (prob1-1)*(prob1-1)\n",
    "\n",
    "    if cost <= 0.0001:\n",
    "        print(\"Optimal Parameter:\",theta)\n",
    "        break\n",
    "    dcost = 2*(math.tan(theta/2)*math.tan(theta/2)-1)*math.tan(theta/2)/math.cos(theta/2)/math.cos(theta/2)\n",
    "    theta = (theta - a*dcost)%(2*np.pi)"
   ]
  },
  {
   "cell_type": "code",
   "execution_count": 231,
   "metadata": {},
   "outputs": [
    {
     "data": {
      "image/png": "[encoded data removed]",
      "text/plain": [
       "<Figure size 472.059x204.68 with 1 Axes>"
      ]
     },
     "execution_count": 231,
     "metadata": {},
     "output_type": "execute_result"
    }
   ],
   "source": [
    "#q = QuantumRegister(2)\n",
    "#c = ClassicalRegister(2)\n",
    "circuit = QuantumCircuit(2)\n",
    "circuit.ry(theta,0)\n",
    "#circuit.rx(np.pi, 1)\n",
    "circuit.x(1)\n",
    "circuit.cx(0,1)\n",
    "circuit.measure_all()\n",
    "circuit.draw(output='mpl')"
   ]
  },
  {
   "cell_type": "code",
   "execution_count": 232,
   "metadata": {},
   "outputs": [
    {
     "data": {
      "image/png": "[encoded data removed]",
      "text/plain": [
       "<Figure size 504x360 with 1 Axes>"
      ]
     },
     "execution_count": 232,
     "metadata": {},
     "output_type": "execute_result"
    }
   ],
   "source": [
    "job = execute(circuit, backend, shots=1000)\n",
    "plot_histogram(job.result().get_counts(circuit))"
   ]
  },
  {
   "cell_type": "code",
   "execution_count": 233,
   "metadata": {},
   "outputs": [
    {
     "data": {
      "image/png": "[encoded data removed]",
      "text/plain": [
       "<Figure size 321.232x144.48 with 1 Axes>"
      ]
     },
     "execution_count": 233,
     "metadata": {},
     "output_type": "execute_result"
    }
   ],
   "source": [
    "sans_measurements = QuantumCircuit(2)\n",
    "sans_measurements.data = circuit.data[:-2]\n",
    "sans_measurements.draw('mpl')\n"
   ]
  },
  {
   "cell_type": "code",
   "execution_count": 234,
   "metadata": {},
   "outputs": [
    {
     "name": "stdout",
     "output_type": "stream",
     "text": [
      "[-0.        +0.j  0.70536532+0.j -0.70884397+0.j  0.        +0.j]\n"
     ]
    }
   ],
   "source": [
    "simulator = Aer.get_backend('statevector_simulator')\n",
    "result = execute(sans_measurements, backend=simulator).result()\n",
    "statevector = result.get_statevector()\n",
    "\n",
    "print(statevector)"
   ]
  },
  {
   "cell_type": "markdown",
   "metadata": {},
   "source": [
    "### RESULTS:\n",
    "As discussed in Results and Discussions (*), the results are same. \n",
    "That is, when we use R_x gate (for theta=pi), we get |psi> as:\n",
    "$$\n",
    "|psi\\rangle = \\tfrac{-i}{\\sqrt{2}}(|01\\rangle + |10\\rangle)\n",
    "$$\n",
    "with no relative phases involved (only a global phase -i is observed).\n",
    "\n",
    "AND when we use X gate which is actually a special case of R_x gate (when theta = pi),then\n",
    "we get |psi> as :\n",
    "\n",
    "$$\n",
    "|psi\\rangle = \\tfrac{1}{\\sqrt{2}}(|01\\rangle + |10\\rangle)\n",
    "$$\n",
    "with no global phases and relative phases involved."
   ]
  },
  {
   "cell_type": "code",
   "execution_count": null,
   "metadata": {},
   "outputs": [],
   "source": []
  }
 ],
 "metadata": {
  "kernelspec": {
   "display_name": "Python 3",
   "language": "python",
   "name": "python3"
  },
  "language_info": {
   "codemirror_mode": {
    "name": "ipython",
    "version": 3
   },
   "file_extension": ".py",
   "mimetype": "text/x-python",
   "name": "python",
   "nbconvert_exporter": "python",
   "pygments_lexer": "ipython3",
   "version": "3.7.7"
  }
 },
 "nbformat": 4,
 "nbformat_minor": 4
}
